{
 "cells": [
  {
   "cell_type": "code",
   "execution_count": 10,
   "id": "0d71cdd1",
   "metadata": {},
   "outputs": [
    {
     "name": "stdout",
     "output_type": "stream",
     "text": [
      "Requirement already satisfied: librosa in c:\\users\\marina\\appdata\\local\\programs\\python\\python39\\lib\\site-packages (0.9.2)\n",
      "Requirement already satisfied: decorator>=4.0.10 in c:\\users\\marina\\appdata\\local\\programs\\python\\python39\\lib\\site-packages (from librosa) (5.1.1)\n",
      "Requirement already satisfied: scipy>=1.2.0 in c:\\users\\marina\\appdata\\local\\programs\\python\\python39\\lib\\site-packages (from librosa) (1.9.3)\n",
      "Requirement already satisfied: audioread>=2.1.9 in c:\\users\\marina\\appdata\\local\\programs\\python\\python39\\lib\\site-packages (from librosa) (3.0.0)\n",
      "Requirement already satisfied: soundfile>=0.10.2 in c:\\users\\marina\\appdata\\local\\programs\\python\\python39\\lib\\site-packages (from librosa) (0.11.0)\n",
      "Requirement already satisfied: pooch>=1.0 in c:\\users\\marina\\appdata\\local\\programs\\python\\python39\\lib\\site-packages (from librosa) (1.6.0)\n",
      "Requirement already satisfied: packaging>=20.0 in c:\\users\\marina\\appdata\\local\\programs\\python\\python39\\lib\\site-packages (from librosa) (21.3)\n",
      "Requirement already satisfied: resampy>=0.2.2 in c:\\users\\marina\\appdata\\local\\programs\\python\\python39\\lib\\site-packages (from librosa) (0.4.2)\n",
      "Requirement already satisfied: numpy>=1.17.0 in c:\\users\\marina\\appdata\\local\\programs\\python\\python39\\lib\\site-packages (from librosa) (1.20.2)\n",
      "Requirement already satisfied: joblib>=0.14 in c:\\users\\marina\\appdata\\local\\programs\\python\\python39\\lib\\site-packages (from librosa) (1.2.0)\n",
      "Requirement already satisfied: scikit-learn>=0.19.1 in c:\\users\\marina\\appdata\\local\\programs\\python\\python39\\lib\\site-packages (from librosa) (1.1.3)\n",
      "Requirement already satisfied: numba>=0.45.1 in c:\\users\\marina\\appdata\\local\\programs\\python\\python39\\lib\\site-packages (from librosa) (0.56.4)\n",
      "Requirement already satisfied: llvmlite<0.40,>=0.39.0dev0 in c:\\users\\marina\\appdata\\local\\programs\\python\\python39\\lib\\site-packages (from numba>=0.45.1->librosa) (0.39.1)\n",
      "Requirement already satisfied: setuptools in c:\\users\\marina\\appdata\\local\\programs\\python\\python39\\lib\\site-packages (from numba>=0.45.1->librosa) (49.2.1)\n",
      "Requirement already satisfied: pyparsing!=3.0.5,>=2.0.2 in c:\\users\\marina\\appdata\\local\\programs\\python\\python39\\lib\\site-packages (from packaging>=20.0->librosa) (3.0.9)\n",
      "Requirement already satisfied: appdirs>=1.3.0 in c:\\users\\marina\\appdata\\local\\programs\\python\\python39\\lib\\site-packages (from pooch>=1.0->librosa) (1.4.4)\n",
      "Requirement already satisfied: requests>=2.19.0 in c:\\users\\marina\\appdata\\local\\programs\\python\\python39\\lib\\site-packages (from pooch>=1.0->librosa) (2.28.1)\n",
      "Requirement already satisfied: threadpoolctl>=2.0.0 in c:\\users\\marina\\appdata\\local\\programs\\python\\python39\\lib\\site-packages (from scikit-learn>=0.19.1->librosa) (3.1.0)\n",
      "Requirement already satisfied: cffi>=1.0 in c:\\users\\marina\\appdata\\local\\programs\\python\\python39\\lib\\site-packages (from soundfile>=0.10.2->librosa) (1.15.1)\n",
      "Requirement already satisfied: pycparser in c:\\users\\marina\\appdata\\local\\programs\\python\\python39\\lib\\site-packages (from cffi>=1.0->soundfile>=0.10.2->librosa) (2.21)\n",
      "Requirement already satisfied: charset-normalizer<3,>=2 in c:\\users\\marina\\appdata\\local\\programs\\python\\python39\\lib\\site-packages (from requests>=2.19.0->pooch>=1.0->librosa) (2.1.1)\n",
      "Requirement already satisfied: urllib3<1.27,>=1.21.1 in c:\\users\\marina\\appdata\\local\\programs\\python\\python39\\lib\\site-packages (from requests>=2.19.0->pooch>=1.0->librosa) (1.26.12)\n",
      "Requirement already satisfied: certifi>=2017.4.17 in c:\\users\\marina\\appdata\\local\\programs\\python\\python39\\lib\\site-packages (from requests>=2.19.0->pooch>=1.0->librosa) (2022.9.24)\n",
      "Requirement already satisfied: idna<4,>=2.5 in c:\\users\\marina\\appdata\\local\\programs\\python\\python39\\lib\\site-packages (from requests>=2.19.0->pooch>=1.0->librosa) (3.4)\n"
     ]
    },
    {
     "name": "stderr",
     "output_type": "stream",
     "text": [
      "\n",
      "[notice] A new release of pip available: 22.3 -> 22.3.1\n",
      "[notice] To update, run: python.exe -m pip install --upgrade pip\n"
     ]
    },
    {
     "name": "stdout",
     "output_type": "stream",
     "text": [
      "Collecting seaborn\n",
      "  Downloading seaborn-0.12.1-py3-none-any.whl (288 kB)\n",
      "     ------------------------------------ 288.2/288.2 kB 613.6 kB/s eta 0:00:00\n",
      "Requirement already satisfied: numpy>=1.17 in c:\\users\\marina\\appdata\\local\\programs\\python\\python39\\lib\\site-packages (from seaborn) (1.20.2)\n",
      "Requirement already satisfied: pandas>=0.25 in c:\\users\\marina\\appdata\\local\\programs\\python\\python39\\lib\\site-packages (from seaborn) (1.2.4)\n",
      "Collecting matplotlib!=3.6.1,>=3.1\n",
      "  Downloading matplotlib-3.6.2-cp39-cp39-win_amd64.whl (7.2 MB)\n",
      "     ---------------------------------------- 7.2/7.2 MB 1.5 MB/s eta 0:00:00\n",
      "Requirement already satisfied: pyparsing>=2.2.1 in c:\\users\\marina\\appdata\\local\\programs\\python\\python39\\lib\\site-packages (from matplotlib!=3.6.1,>=3.1->seaborn) (3.0.9)\n",
      "Requirement already satisfied: fonttools>=4.22.0 in c:\\users\\marina\\appdata\\local\\programs\\python\\python39\\lib\\site-packages (from matplotlib!=3.6.1,>=3.1->seaborn) (4.37.4)\n",
      "Requirement already satisfied: packaging>=20.0 in c:\\users\\marina\\appdata\\local\\programs\\python\\python39\\lib\\site-packages (from matplotlib!=3.6.1,>=3.1->seaborn) (21.3)\n",
      "Requirement already satisfied: pillow>=6.2.0 in c:\\users\\marina\\appdata\\local\\programs\\python\\python39\\lib\\site-packages (from matplotlib!=3.6.1,>=3.1->seaborn) (9.2.0)\n",
      "Requirement already satisfied: kiwisolver>=1.0.1 in c:\\users\\marina\\appdata\\local\\programs\\python\\python39\\lib\\site-packages (from matplotlib!=3.6.1,>=3.1->seaborn) (1.4.4)\n",
      "Requirement already satisfied: cycler>=0.10 in c:\\users\\marina\\appdata\\local\\programs\\python\\python39\\lib\\site-packages (from matplotlib!=3.6.1,>=3.1->seaborn) (0.11.0)\n",
      "Requirement already satisfied: contourpy>=1.0.1 in c:\\users\\marina\\appdata\\local\\programs\\python\\python39\\lib\\site-packages (from matplotlib!=3.6.1,>=3.1->seaborn) (1.0.5)\n",
      "Requirement already satisfied: python-dateutil>=2.7 in c:\\users\\marina\\appdata\\local\\programs\\python\\python39\\lib\\site-packages (from matplotlib!=3.6.1,>=3.1->seaborn) (2.8.2)\n",
      "Requirement already satisfied: pytz>=2017.3 in c:\\users\\marina\\appdata\\local\\programs\\python\\python39\\lib\\site-packages (from pandas>=0.25->seaborn) (2021.1)\n",
      "Requirement already satisfied: six>=1.5 in c:\\users\\marina\\appdata\\local\\programs\\python\\python39\\lib\\site-packages (from python-dateutil>=2.7->matplotlib!=3.6.1,>=3.1->seaborn) (1.15.0)\n",
      "Installing collected packages: matplotlib, seaborn\n",
      "  Attempting uninstall: matplotlib\n",
      "    Found existing installation: matplotlib 3.6.1\n",
      "    Uninstalling matplotlib-3.6.1:\n",
      "      Successfully uninstalled matplotlib-3.6.1\n"
     ]
    },
    {
     "name": "stderr",
     "output_type": "stream",
     "text": [
      "ERROR: Could not install packages due to an OSError: [WinError 5] Access is denied: 'C:\\\\Users\\\\Marina\\\\AppData\\\\Local\\\\Programs\\\\Python\\\\Python39\\\\Lib\\\\site-packages\\\\~atplotlib\\\\ft2font.cp39-win_amd64.pyd'\n",
      "Consider using the `--user` option or check the permissions.\n",
      "\n",
      "\n",
      "[notice] A new release of pip available: 22.3 -> 22.3.1\n",
      "[notice] To update, run: python.exe -m pip install --upgrade pip\n"
     ]
    }
   ],
   "source": [
    "!pip install librosa"
   ]
  },
  {
   "cell_type": "code",
   "execution_count": 5,
   "id": "561083a5",
   "metadata": {},
   "outputs": [],
   "source": [
    "#The output of this section is the CSV files with the data to be handle by the model\n",
    "CREATE_CSV_FILES = True"
   ]
  },
  {
   "cell_type": "code",
   "execution_count": 6,
   "id": "a5a3a09f",
   "metadata": {},
   "outputs": [],
   "source": [
    "# Defines the names of the CSV files\n",
    "TRAIN_CSV_FILE = \"Speaker_Train_File.csv\"\n",
    "TEST_CSV_FILE = \"Speaker_Test_File.csv\""
   ]
  },
  {
   "cell_type": "code",
   "execution_count": 11,
   "id": "3383da74",
   "metadata": {},
   "outputs": [
    {
     "ename": "ModuleNotFoundError",
     "evalue": "No module named 'seaborn'",
     "output_type": "error",
     "traceback": [
      "\u001b[1;31m---------------------------------------------------------------------------\u001b[0m",
      "\u001b[1;31mModuleNotFoundError\u001b[0m                       Traceback (most recent call last)",
      "Cell \u001b[1;32mIn [11], line 16\u001b[0m\n\u001b[0;32m     14\u001b[0m \u001b[39mfrom\u001b[39;00m \u001b[39msklearn\u001b[39;00m \u001b[39mimport\u001b[39;00m preprocessing\n\u001b[0;32m     15\u001b[0m \u001b[39mfrom\u001b[39;00m \u001b[39msklearn\u001b[39;00m\u001b[39m.\u001b[39;00m\u001b[39mtree\u001b[39;00m \u001b[39mimport\u001b[39;00m DecisionTreeClassifier\n\u001b[1;32m---> 16\u001b[0m \u001b[39mimport\u001b[39;00m \u001b[39mseaborn\u001b[39;00m \u001b[39mas\u001b[39;00m \u001b[39msns\u001b[39;00m\n\u001b[0;32m     17\u001b[0m \u001b[39mimport\u001b[39;00m \u001b[39mmatplotlib\u001b[39;00m\u001b[39m.\u001b[39;00m\u001b[39mpyplot\u001b[39;00m \u001b[39mas\u001b[39;00m \u001b[39mplt\u001b[39;00m\n\u001b[0;32m     18\u001b[0m \u001b[39mfrom\u001b[39;00m \u001b[39msklearn\u001b[39;00m\u001b[39m.\u001b[39;00m\u001b[39mmodel_selection\u001b[39;00m \u001b[39mimport\u001b[39;00m train_test_split\n",
      "\u001b[1;31mModuleNotFoundError\u001b[0m: No module named 'seaborn'"
     ]
    }
   ],
   "source": [
    "import matplotlib.pyplot as plt\n",
    "import scipy.io.wavfile\n",
    "import numpy as np\n",
    "from matplotlib import cm\n",
    "import pandas as pd\n",
    "import librosa\n",
    "import zipfile\n",
    "import csv\n",
    "import os\n",
    "from sklearn import metrics\n",
    "import pandas as pd\n",
    "from sklearn.metrics import classification_report, confusion_matrix\n",
    "import csv\n",
    "from sklearn import preprocessing\n",
    "from sklearn.tree import DecisionTreeClassifier\n",
    "import seaborn as sns\n",
    "import matplotlib.pyplot as plt\n",
    "from sklearn.model_selection import train_test_split\n",
    "from sklearn import tree"
   ]
  },
  {
   "cell_type": "code",
   "execution_count": null,
   "id": "56e5278b",
   "metadata": {},
   "outputs": [],
   "source": [
    "def extractWavFeatures(soundFilesFolder, csvFileName):\n",
    "    print(\"The features of the files in the folder \"+soundFilesFolder+\" will be saved to \"+csvFileName)\n",
    "    header = 'filename chroma_stft rmse spectral_centroid spectral_bandwidth rolloff zero_crossing_rate'\n",
    "    for i in range(1, 41):\n",
    "        header += f' mfcc{i}'\n",
    "    header += ' label'\n",
    "    header = header.split()\n",
    "    print('CSV Header: ', header)\n",
    "    file = open(csvFileName, 'w', newline='')\n",
    "    #with file:\n",
    "    writer = csv.writer(file)\n",
    "    writer.writerow(header)\n",
    "    for filename in os.listdir(soundFilesFolder):\n",
    "        if filename.endswith('.wav'):\n",
    "            number = f'{soundFilesFolder}/{filename}'\n",
    "            y, sr = librosa.load(number, mono=True, duration=30)\n",
    "            # remove leading and trailing silence\n",
    "            y, index = librosa.effects.trim(y)\n",
    "            chroma_stft = librosa.feature.chroma_stft(y=y, sr=sr)\n",
    "            rmse = librosa.feature.rms(y=y)\n",
    "            spec_cent = librosa.feature.spectral_centroid(y=y, sr=sr)\n",
    "            spec_bw = librosa.feature.spectral_bandwidth(y=y, sr=sr)\n",
    "            rolloff = librosa.feature.spectral_rolloff(y=y, sr=sr)\n",
    "            zcr = librosa.feature.zero_crossing_rate(y)\n",
    "            mfcc = librosa.feature.mfcc(y=y, sr=sr, n_mfcc = 40)\n",
    "            to_append = f'{filename} {np.mean(chroma_stft)} {np.mean(rmse)} {np.mean(spec_cent)} {np.mean(spec_bw)} {np.mean(rolloff)} {np.mean(zcr)}'\n",
    "            for e in mfcc:\n",
    "                to_append += f' {np.mean(e)}'\n",
    "            writer.writerow(to_append.split())\n",
    "    file.close()\n",
    "    print(\"End of extractWavFeatures\")"
   ]
  },
  {
   "cell_type": "code",
   "execution_count": null,
   "id": "0fd86d9e",
   "metadata": {},
   "outputs": [
    {
     "name": "stdout",
     "output_type": "stream",
     "text": [
      "The features of the files in the folder Speaker_Train_Data will be saved to Speaker_Train_File.csv\n",
      "CSV Header:  ['filename', 'chroma_stft', 'rmse', 'spectral_centroid', 'spectral_bandwidth', 'rolloff', 'zero_crossing_rate', 'mfcc1', 'mfcc2', 'mfcc3', 'mfcc4', 'mfcc5', 'mfcc6', 'mfcc7', 'mfcc8', 'mfcc9', 'mfcc10', 'mfcc11', 'mfcc12', 'mfcc13', 'mfcc14', 'mfcc15', 'mfcc16', 'mfcc17', 'mfcc18', 'mfcc19', 'mfcc20', 'mfcc21', 'mfcc22', 'mfcc23', 'mfcc24', 'mfcc25', 'mfcc26', 'mfcc27', 'mfcc28', 'mfcc29', 'mfcc30', 'mfcc31', 'mfcc32', 'mfcc33', 'mfcc34', 'mfcc35', 'mfcc36', 'mfcc37', 'mfcc38', 'mfcc39', 'mfcc40', 'label']\n",
      "End of extractWavFeatures\n",
      "The features of the files in the folder Speaker_Test_Data will be saved to Speaker_Test_File.csv\n",
      "CSV Header:  ['filename', 'chroma_stft', 'rmse', 'spectral_centroid', 'spectral_bandwidth', 'rolloff', 'zero_crossing_rate', 'mfcc1', 'mfcc2', 'mfcc3', 'mfcc4', 'mfcc5', 'mfcc6', 'mfcc7', 'mfcc8', 'mfcc9', 'mfcc10', 'mfcc11', 'mfcc12', 'mfcc13', 'mfcc14', 'mfcc15', 'mfcc16', 'mfcc17', 'mfcc18', 'mfcc19', 'mfcc20', 'mfcc21', 'mfcc22', 'mfcc23', 'mfcc24', 'mfcc25', 'mfcc26', 'mfcc27', 'mfcc28', 'mfcc29', 'mfcc30', 'mfcc31', 'mfcc32', 'mfcc33', 'mfcc34', 'mfcc35', 'mfcc36', 'mfcc37', 'mfcc38', 'mfcc39', 'mfcc40', 'label']\n",
      "End of extractWavFeatures\n",
      "CSV files are created\n"
     ]
    }
   ],
   "source": [
    "if (CREATE_CSV_FILES == True):\n",
    "    extractWavFeatures(\"Speaker_Train_Data\", TRAIN_CSV_FILE)\n",
    "    extractWavFeatures(\"Speaker_Test_Data\", TEST_CSV_FILE)\n",
    "    print(\"CSV files are created\")\n",
    "else:\n",
    "    print(\"CSV files creation is skipped\")"
   ]
  },
  {
   "cell_type": "code",
   "execution_count": null,
   "id": "a414a27c",
   "metadata": {},
   "outputs": [],
   "source": [
    "#Reading a dataset and convert file name to corresbonding umnber\n",
    "def preProcessData(csvFileName):\n",
    "    header_name_list = ['filename', 'chroma_stft', 'rmse', 'spectral_centroid', 'spectral_bandwidth', 'rolloff', 'zero_crossing_rate', 'mfcc1', 'mfcc2', 'mfcc3', 'mfcc4', 'mfcc5', 'mfcc6', 'mfcc7', 'mfcc8', 'mfcc9', 'mfcc10', 'mfcc11', 'mfcc12', 'mfcc13', 'mfcc14', 'mfcc15', 'mfcc16', 'mfcc17', 'mfcc18', 'mfcc19', 'mfcc20', 'mfcc21', 'mfcc22', 'mfcc23', 'mfcc24', 'mfcc25', 'mfcc26', 'mfcc27', 'mfcc28', 'mfcc29', 'mfcc30', 'mfcc31', 'mfcc32', 'mfcc33', 'mfcc34', 'mfcc35', 'mfcc36', 'mfcc37', 'mfcc38', 'mfcc39', 'mfcc40', 'label']\n",
    "    print(csvFileName+ \" will be preprocessed\")\n",
    "    data =  pd.read_csv(csvFileName)\n",
    "#     data = pd.read_csv(csvFileName, skiprows=[1, 50]\n",
    "    # we have 4 speakers: \n",
    "    # 0: Marina\n",
    "    # 1: Mohab\n",
    "    # 2: Omnia\n",
    "    # 3: Youssef\n",
    "    filenameArray = data['filename'] \n",
    "    speakerArray = []\n",
    "#     print(filenameArray)\n",
    "    for filename in filenameArray:\n",
    "        #print(speaker)\n",
    "        if \"marina\" in filename:\n",
    "            speaker = 0\n",
    "        elif \"mohab\" in filename:\n",
    "            speaker = 1\n",
    "# #         elif \"omnia\" in filename:\n",
    "#                speaker = \"2\"\n",
    "# #         elif \"Youssef\"n filename:\n",
    "# #             speaker = \"3\"\n",
    "        else: \n",
    "            speaker = \"4\"\n",
    "#         print(speaker)\n",
    "        speakerArray.append(speaker)\n",
    "    data['number'] = speakerArray\n",
    "    #Dropping unnecessary columns\n",
    "    data = data.drop(['filename'],axis=1)\n",
    "    data = data.drop(['label'],axis=1)\n",
    "    data = data.drop(['chroma_stft'],axis=1)\n",
    "#     data.shape\n",
    "#     print(\"Preprocessing is finished\")\n",
    "#     print(data['rmse'])\n",
    "    print(data)\n",
    "    return data"
   ]
  },
  {
   "cell_type": "code",
   "execution_count": null,
   "id": "e4b55a6b",
   "metadata": {},
   "outputs": [
    {
     "name": "stdout",
     "output_type": "stream",
     "text": [
      "Speaker_Train_File.csv will be preprocessed\n",
      "        rmse  spectral_centroid  spectral_bandwidth      rolloff  \\\n",
      "0   0.007610        1092.741159         1452.675884  2016.445893   \n",
      "1   0.025625        2364.740968         2936.851934  5978.127769   \n",
      "2   0.018947        1296.560988         1631.028960  2652.988503   \n",
      "3   0.017168        1253.064143         1425.561648  2338.823562   \n",
      "4   0.028327        2026.556424         2848.217220  5431.426193   \n",
      "5   0.023835        2367.994979         3004.842011  6157.458349   \n",
      "6   0.013829        1166.165148         1480.120272  2109.620577   \n",
      "7   0.023275        2128.937290         2935.035825  5796.971774   \n",
      "8   0.013633        1066.181390         1480.829474  2143.283650   \n",
      "9   0.016291        1059.129002         1425.596731  2004.056064   \n",
      "10  0.021183        2061.124293         2843.493893  5239.121943   \n",
      "11  0.013171        1411.112761         1650.715694  2891.450275   \n",
      "12  0.009261        1442.493989         1671.743065  3019.194336   \n",
      "13  0.032043        2167.885214         2815.057498  5294.617984   \n",
      "14  0.012320        1225.240931         1555.220873  2335.284777   \n",
      "15  0.023915        2132.246928         2898.649343  5664.069824   \n",
      "16  0.027866        2082.559104         2780.557133  5209.630817   \n",
      "17  0.012376        1377.828404         1645.314647  2685.521710   \n",
      "18  0.008895        1406.887098         1550.732396  2625.419478   \n",
      "19  0.023924        1987.875203         2807.098604  4993.908691   \n",
      "20  0.015835        1276.583495         1634.214861  2637.144470   \n",
      "21  0.028436        1813.590946         2750.560789  4991.028153   \n",
      "22  0.029169        2207.509724         2948.793532  6040.488474   \n",
      "23  0.018636        1969.803556         2804.554771  5336.731987   \n",
      "24  0.334116           0.022559         2091.968365  2831.697936   \n",
      "25  0.011660        1125.800353         1436.022669  2053.561020   \n",
      "26  0.027808        1650.015797         2583.110988  4206.411334   \n",
      "27  0.013003        1192.032583         1474.469373  2204.027533   \n",
      "28  0.025885        2377.637777         2933.128883  6035.263907   \n",
      "29  0.010772        1292.543629         1636.612877  2750.986328   \n",
      "30  0.018419        2263.832853         2962.105235  6048.890150   \n",
      "31  0.029100        1868.034517         2699.900851  4777.396112   \n",
      "32  0.009993        1222.905682         1460.351945  2157.293701   \n",
      "33  0.033647        1899.736127         2792.827553  5076.387778   \n",
      "34  0.015597        1231.002271         1473.891139  2302.976074   \n",
      "35  0.007870        1249.943189         1483.970437  2385.841129   \n",
      "36  0.023608        2628.043271         3086.557725  6649.097938   \n",
      "37  0.018104        1198.371033         1500.572804  2209.231086   \n",
      "38  0.021516        1365.044956         1569.108733  2559.166446   \n",
      "39  0.008567        1349.090787         1640.655500  2676.497396   \n",
      "40  0.033769        1857.680568         2667.810166  4353.248677   \n",
      "41  0.015517        1387.471357         1609.152266  2662.320683   \n",
      "42  0.021893        2200.756827         2914.777513  5858.731240   \n",
      "43  0.016585        1230.753950         1509.360574  2346.060131   \n",
      "44  0.025713        2390.037705         3036.231384  6343.228310   \n",
      "45  0.023388        2100.098238         2795.369842  5209.479980   \n",
      "46  0.037531        2147.396809         2749.349626  5173.777048   \n",
      "47  0.013404        1288.854671         1518.160525  2435.184420   \n",
      "\n",
      "    zero_crossing_rate       mfcc1       mfcc2      mfcc3      mfcc4  \\\n",
      "0             0.044090 -548.552673  138.277924  -0.896089   2.347720   \n",
      "1             0.079071 -427.455383   88.906509  36.406521   7.163789   \n",
      "2             0.044289 -473.345734  119.629684  -1.121437  20.200558   \n",
      "3             0.061363 -467.666138  127.381081 -11.800785   8.422254   \n",
      "4             0.053087 -439.635223   97.202438  44.484364  16.853731   \n",
      "5             0.065947 -422.617279   88.825333  45.742393  20.281715   \n",
      "6             0.050800 -504.032043  127.963150   2.349404  14.097299   \n",
      "7             0.058653 -440.818817   91.831390  43.129925  20.952833   \n",
      "8             0.036762 -525.845459  133.443130   6.146022  15.455681   \n",
      "9             0.039517 -500.329559  143.786804   7.132108  14.176459   \n",
      "10            0.057829 -421.680603   99.947365  33.475529  14.080248   \n",
      "11            0.066710 -535.087463  105.947289   4.351308  15.629582   \n",
      "12            0.054188 -536.214661  127.440567  -9.256090  32.918926   \n",
      "13            0.066355 -414.473541  102.084694  38.760143  11.749408   \n",
      "14            0.049276 -526.820251  107.449257   7.990499  17.557875   \n",
      "15            0.060422 -438.185211   98.629265  45.874798  11.327917   \n",
      "16            0.058360 -409.391479  100.832939  36.025822  12.555730   \n",
      "17            0.057061 -533.964478  111.510933 -11.337399   9.673928   \n",
      "18            0.071267 -561.111206  115.522163 -17.712410   8.950955   \n",
      "19            0.051449 -432.581116   99.037804  38.900448  12.187285   \n",
      "20            0.039693 -499.826416  122.048950  -1.920735  24.336126   \n",
      "21            0.043675 -396.745117  103.496590  40.834110  25.877579   \n",
      "22            0.062436 -430.198334   98.781487  44.296337  14.174744   \n",
      "23            0.045104 -439.741608   99.431664  40.705456  23.332342   \n",
      "24         5413.758930    0.049991 -423.667694  91.811829  39.492661   \n",
      "25            0.045380 -516.219360  137.115372  -3.038402  11.090314   \n",
      "26            0.043140 -434.091339  118.140205  46.371296  11.403926   \n",
      "27            0.052545 -515.836670  127.109634 -13.212941   8.069227   \n",
      "28            0.073813 -432.331696   85.414803  26.004005  15.197461   \n",
      "29            0.035525 -526.105896  131.326828  -4.298124  29.134644   \n",
      "30            0.056012 -473.391693   87.073349  34.724937  15.099846   \n",
      "31            0.048455 -423.066650   98.823631  44.522160  21.270752   \n",
      "32            0.060233 -533.275513  126.323990  -5.393277   7.978744   \n",
      "33            0.050864 -432.788391  101.008682  44.610096  15.285007   \n",
      "34            0.052344 -488.237030  124.432877  -4.712564  17.644253   \n",
      "35            0.060307 -549.313110  141.742386 -12.571169  22.221680   \n",
      "36            0.091757 -415.460449   88.529854  41.576221   9.695709   \n",
      "37            0.053831 -485.277557  124.337700   2.136270  15.328397   \n",
      "38            0.068442 -469.360443  107.335518  -9.026881  12.513734   \n",
      "39            0.050781 -540.000366  133.394684  -6.241394  22.814430   \n",
      "40            0.054315 -412.858307  111.063927  50.010620  16.585911   \n",
      "41            0.058013 -501.029175  112.742706 -15.422598  16.566858   \n",
      "42            0.061305 -422.791870   95.862717  39.679092  18.702766   \n",
      "43            0.049973 -485.665253  118.747414  -0.341144  14.197672   \n",
      "44            0.066657 -439.655060   89.025719  28.392653  12.432586   \n",
      "45            0.059896 -436.169373   95.847908  49.776520  22.598442   \n",
      "46            0.072478 -408.263153   99.053986  44.918129  11.678194   \n",
      "47            0.059564 -505.511658  120.892815  -7.716825  12.656278   \n",
      "\n",
      "        mfcc5  ...     mfcc32     mfcc33     mfcc34     mfcc35    mfcc36  \\\n",
      "0    5.405893  ...   7.997832   9.725607   7.603595   7.067536  4.616615   \n",
      "1   14.111113  ...  -0.529710  -0.566567  -0.073664  -1.152967 -0.953883   \n",
      "2  -10.222844  ...   1.936130   9.812678  -0.355288   0.478350 -1.534505   \n",
      "3  -10.773454  ...   5.457881   6.887400   5.681319   7.782846  0.628304   \n",
      "4   14.960814  ...  -0.134630  -1.629236   0.136646  -3.710904 -0.420397   \n",
      "5   29.297571  ...  -1.030880  -0.727999   0.284361  -1.939150  0.017204   \n",
      "6   -8.987040  ...   3.478289   7.570534   2.271217   2.971117  0.029042   \n",
      "7   26.131981  ...   2.609188   0.257051  -1.195221  -1.077340  1.711545   \n",
      "8   -7.870203  ...  15.525404   9.227160   5.953187   3.636906  5.536132   \n",
      "9  -14.659636  ...   9.097224   9.793737   6.611722   5.170087  3.028811   \n",
      "10  34.934887  ...   2.370717   0.436366  -0.172585  -4.060978 -2.215920   \n",
      "11  -2.127247  ...  10.704770   7.688584   1.802720   2.802963  3.732193   \n",
      "12 -19.084145  ...  10.104311   8.309804   6.199249   4.522533 -0.303321   \n",
      "13  15.886083  ...  -1.384528  -1.948394  -0.615050  -2.830063 -0.195808   \n",
      "14  -0.538087  ...   8.085485   6.229992   4.976469   0.663273  1.362385   \n",
      "15  19.034599  ...  -0.197900  -1.771399  -1.110242  -0.690988 -0.769140   \n",
      "16  17.927935  ...  -0.320147  -1.213659  -1.943459  -2.488720  0.944284   \n",
      "17   1.170346  ...   7.944724   9.642919   2.899503   2.555336 -0.881145   \n",
      "18  -5.192162  ...  15.736485  13.497458   2.864244   2.019490 -1.818989   \n",
      "19  17.349405  ...  -0.880907  -2.994412  -0.396709  -2.208727  0.194146   \n",
      "20  -6.788704  ...  10.266263  15.390597   9.012878   7.133364  0.400037   \n",
      "21  31.116266  ...  -1.699639  -4.559656  -3.085716  -1.305469 -0.195959   \n",
      "22  21.118771  ...  -0.233051  -1.916822  -0.019587  -2.608257 -1.699227   \n",
      "23  24.781435  ...  -0.894368  -2.943705  -3.131404  -4.883038 -2.209646   \n",
      "24  26.833658  ...  -0.766120  -0.744530  -3.195142  -2.117120 -4.751349   \n",
      "25  -4.016304  ...  12.373823  12.639037   6.754049   8.284751  7.529185   \n",
      "26  11.151808  ...  -1.937485  -1.836314  -2.614245  -2.023296 -0.693611   \n",
      "27  -1.263227  ...   8.976474  11.907483   6.019187   4.141130 -1.907349   \n",
      "28  16.713903  ...   0.874674   0.260935   0.566017  -2.978362 -0.446839   \n",
      "29  -8.593131  ...   9.468879   8.032572  11.555622   8.793959  4.665905   \n",
      "30  17.098337  ...   0.215402  -0.892294   0.090506  -0.895753  0.082701   \n",
      "31  20.870516  ...  -0.398820  -1.349019  -0.761159  -3.374394 -1.854956   \n",
      "32  -1.688960  ...   9.847920   6.317572   2.457523   2.565717 -0.549339   \n",
      "33  17.125126  ...  -2.847191  -2.249991  -1.878259  -3.965697 -1.291700   \n",
      "34  -9.800756  ...   9.760712   9.221462  10.322600  10.927328  4.845160   \n",
      "35  -1.126633  ...  10.150530   8.169205   7.404339   7.211727  3.169634   \n",
      "36  12.212323  ...  -0.108509  -4.415276   0.114797  -1.783636  2.107147   \n",
      "37 -13.033694  ...   4.674408   9.166691   2.943458   5.314620 -0.889762   \n",
      "38  -2.221378  ...  -0.119231   2.452093   1.849483   2.460117 -3.165440   \n",
      "39  -3.187351  ...  12.454113  12.531468  11.780158  13.801013  5.039853   \n",
      "40  13.856030  ...  -1.459742  -3.692271   0.531457  -3.794833 -0.284585   \n",
      "41  -6.766523  ...   4.116170   4.058352   1.534294   1.178143 -1.235215   \n",
      "42  23.660538  ...   0.994246  -0.949476   0.310032  -3.857558  0.908632   \n",
      "43  -8.606584  ...   5.284319   7.979311   1.586594   2.322874 -2.114764   \n",
      "44  27.985111  ...   0.322891  -2.328621   0.947204  -2.899705 -0.862109   \n",
      "45  29.539776  ...  -0.581690  -2.691233  -1.721480  -4.074293 -2.475087   \n",
      "46   8.427162  ...  -1.204026  -1.790140   0.389089  -3.027335  0.571763   \n",
      "47  -4.748038  ...   5.389879   6.465159   3.332573   0.794236 -3.267969   \n",
      "\n",
      "      mfcc37    mfcc38    mfcc39    mfcc40  number  \n",
      "0   4.371236 -0.319244 -1.727959  1.645298       0  \n",
      "1  -2.839586 -1.738276 -1.899902 -1.782184       1  \n",
      "2  -0.232721 -1.357229 -0.922443 -2.998343       0  \n",
      "3  -0.714959  0.125329 -1.069340 -5.094728       0  \n",
      "4  -2.918410 -1.488211 -2.251755 -1.726285       1  \n",
      "5  -2.262959 -0.651648 -1.618052 -0.128023       1  \n",
      "6  -0.701853  1.432102  0.208487 -3.162875       0  \n",
      "7  -1.839256  0.439578  0.976813 -0.300793       1  \n",
      "8   3.673845 -0.527660 -1.303422 -1.081108       0  \n",
      "9   2.776654 -3.036256 -1.711698  0.757972       0  \n",
      "10 -2.717902  1.574096 -2.072337 -1.769531       1  \n",
      "11  2.590235 -1.365521 -1.575039 -0.747683       0  \n",
      "12  2.512346 -3.426595  0.055044  3.592145       0  \n",
      "13 -1.769886 -1.242765 -1.975990 -1.531542       1  \n",
      "14  3.141981 -0.980896 -1.758139 -0.290967       0  \n",
      "15 -3.453861 -0.383124 -2.246000 -1.521991       1  \n",
      "16 -3.339704 -1.065543 -3.082848 -3.671463       1  \n",
      "17 -2.316305 -1.376842 -0.014482  0.448794       0  \n",
      "18 -0.874578 -2.624745 -5.170393 -1.437249       0  \n",
      "19 -1.571624 -1.358149 -1.851514 -1.762977       1  \n",
      "20 -0.292059 -4.085672  0.174606  5.223324       0  \n",
      "21 -1.103823 -1.394196 -2.224471 -2.174938       1  \n",
      "22 -3.110319 -0.714516 -3.706596 -1.948217       1  \n",
      "23 -4.793203 -2.445369 -4.442157 -3.394523       1  \n",
      "24 -2.500754 -5.280918 -2.505286 -3.426088       1  \n",
      "25  3.015213 -3.392671  0.173190 -0.382643       0  \n",
      "26 -2.770815  0.872155 -1.753732 -0.414527       1  \n",
      "27 -0.386956 -2.026537  0.838171  2.671489       0  \n",
      "28 -2.079460 -1.665029 -1.190094 -0.379190       1  \n",
      "29  4.724761 -0.690839  3.437482  1.269899       0  \n",
      "30 -1.302095 -0.670033 -0.063399 -2.426137       1  \n",
      "31 -2.976245 -3.519971 -2.040862 -3.126679       1  \n",
      "32 -1.875484 -0.544401 -0.735906 -3.623948       0  \n",
      "33 -3.924658 -1.180652 -2.673276  0.048690       1  \n",
      "34  4.409490 -0.823800 -3.445150 -0.386985       0  \n",
      "35  0.990402  1.773450  1.889653 -1.090542       0  \n",
      "36 -2.434622  1.636067 -1.486063 -0.153835       1  \n",
      "37 -1.983909 -2.803638 -0.218268  0.415700       0  \n",
      "38 -2.425457 -5.980398 -1.846387  0.672375       0  \n",
      "39  1.527306 -2.353930 -0.584018  3.254151       0  \n",
      "40 -3.309072  2.031618  0.066895  1.088059       1  \n",
      "41  1.639596 -3.728315 -2.688532 -1.636350       0  \n",
      "42 -5.383833 -0.909088 -2.119444  0.535439       1  \n",
      "43 -1.790100 -0.101661  0.374472 -1.964005       0  \n",
      "44 -3.544874  0.984739 -2.584111 -1.575887       1  \n",
      "45 -5.360729 -2.365728 -4.239292 -2.604244       1  \n",
      "46 -2.999540 -0.517416 -2.129431 -0.672468       1  \n",
      "47 -3.543033 -4.882902 -0.384519 -1.892995       0  \n",
      "\n",
      "[48 rows x 46 columns]\n",
      "Speaker_Test_File.csv will be preprocessed\n",
      "        rmse  spectral_centroid  spectral_bandwidth      rolloff  \\\n",
      "0   0.013133        1470.952944         1691.140734  2899.633789   \n",
      "1   0.028445        2283.285509         2886.740176  5468.006695   \n",
      "2   0.024005        2010.943258         2776.259144  4959.641496   \n",
      "3   0.011950        1284.548265         1583.226765  2528.173828   \n",
      "4   0.014685        1451.345454         1660.683203  2960.131836   \n",
      "5   0.025074        2139.461082         2912.078942  5718.620605   \n",
      "6   0.028864        2298.275488         2845.040979  5544.201660   \n",
      "7   0.026508        1834.718121         2638.737441  4292.883301   \n",
      "8   0.014269        1292.033903         1605.281913  2684.196590   \n",
      "9   0.031027        2084.451915         2748.121696  5186.101974   \n",
      "10  0.006152        1479.062815         1763.405441  3088.462706   \n",
      "11  0.014186        1561.604490         1690.012838  3048.399919   \n",
      "12  0.017969        1652.178637         1735.990755  3354.210487   \n",
      "13  0.030226        1479.383967         2456.232337  3500.581055   \n",
      "14  0.011672        1441.755777         1614.838471  2780.859375   \n",
      "15  0.022927        2576.473111         3008.615709  6349.298033   \n",
      "16  0.033841        2301.336432         2722.829532  5173.493717   \n",
      "17  0.026827        2542.390244         3000.422942  6358.848505   \n",
      "18  0.018147        1103.097052         1320.536262  1975.122070   \n",
      "19  0.014444        1204.170677         1543.723598  2356.593750   \n",
      "20  0.014086        1297.896829         1539.347061  2545.424918   \n",
      "21  0.011098        1348.696552         1597.014818  2718.658137   \n",
      "22  0.024999        2503.460797         2973.821915  6229.841044   \n",
      "23  0.025206        2073.226927         2681.910008  4681.915063   \n",
      "\n",
      "    zero_crossing_rate       mfcc1       mfcc2      mfcc3      mfcc4  \\\n",
      "0             0.063833 -488.245178  107.129128 -10.445320  20.420298   \n",
      "1             0.076572 -428.245850   98.685356  45.675652  17.328039   \n",
      "2             0.056635 -447.314240   94.688408  36.626774  17.013239   \n",
      "3             0.050084 -520.545593  125.540848  -6.197292  24.858618   \n",
      "4             0.057447 -494.238373  113.324387 -12.248384  26.998981   \n",
      "5             0.065055 -434.053436   95.595879  36.895794  15.206469   \n",
      "6             0.074278 -449.703979   86.423630  38.443115  16.035173   \n",
      "7             0.056304 -440.571442   93.790634  28.297949  18.066463   \n",
      "8             0.045898 -507.724396  124.936150  -8.080250  21.164045   \n",
      "9             0.066580 -431.004517   95.369644  38.116905  19.144310   \n",
      "10            0.060701 -584.884521   85.764664  10.003645  12.696175   \n",
      "11            0.073231 -506.386932  106.690308  -4.010928  21.498571   \n",
      "12            0.066882 -453.918884  110.010918 -23.960939  30.527792   \n",
      "13            0.028608 -422.468475  115.019066  46.838356  18.215616   \n",
      "14            0.061194 -512.462036  120.394470 -15.927194  18.408646   \n",
      "15            0.083949 -440.516846   77.759789  28.727467  19.762468   \n",
      "16            0.082609 -425.648529   94.899300  40.700054  13.646404   \n",
      "17            0.090622 -422.763763   78.101051  30.544317  22.107309   \n",
      "18            0.043088 -456.050232  158.541306 -16.562037  16.886581   \n",
      "19            0.041133 -519.495117  126.049271  -6.260404  17.793604   \n",
      "20            0.047636 -511.164642  134.491409  -9.120993  23.309582   \n",
      "21            0.055801 -535.861450  112.743095   3.825747  15.625695   \n",
      "22            0.078254 -448.597290   83.529442  40.187492  16.657621   \n",
      "23            0.074742 -424.320038   92.533569  24.634245  20.282795   \n",
      "\n",
      "        mfcc5  ...     mfcc32     mfcc33     mfcc34     mfcc35    mfcc36  \\\n",
      "0    1.112351  ...  11.980610  10.496757   4.423411   8.316208  4.051384   \n",
      "1   17.867495  ...  -1.764454  -1.867690  -0.393934  -1.295530 -0.726862   \n",
      "2   26.711229  ...   2.042283   1.095530   2.307992  -3.384462  0.716324   \n",
      "3   -5.183114  ...  14.495393  15.156267  14.450818  10.935893  3.792929   \n",
      "4    0.418329  ...  13.079610  12.002770   4.637008   5.056021  2.754282   \n",
      "5   23.524805  ...   1.759014   0.556842   2.798031   0.124265  1.664739   \n",
      "6   17.614784  ...  -0.797705  -1.316740   1.867530  -2.689126  1.045696   \n",
      "7   27.777821  ...   3.463330   1.357502   2.236958  -0.568399  1.027493   \n",
      "8  -10.479630  ...   9.423451  10.779510   9.651795   7.068919  2.720974   \n",
      "9   15.179840  ...  -1.402758  -2.568294  -0.812147  -5.771162  0.093925   \n",
      "10   1.849584  ...   9.168103   8.721233   8.033748   6.578087  2.711991   \n",
      "11  -6.468696  ...  12.279588  10.433791   5.951175   7.519535  6.553608   \n",
      "12 -13.605231  ...  10.140472  10.028820   7.624258   9.064590  0.629875   \n",
      "13  14.665538  ...  -2.364260  -3.687113  -0.412388  -4.556723 -1.193448   \n",
      "14   2.108553  ...  12.235275  11.626465   6.177065  12.316713  6.912132   \n",
      "15  24.311264  ...   1.361276  -1.365361   0.943456  -2.592773 -0.345529   \n",
      "16  14.222457  ...  -1.484176  -1.516913   0.778563  -2.491944  1.184698   \n",
      "17  23.480837  ...   0.984234  -0.403070   1.074064  -3.641201  1.188939   \n",
      "18 -19.845436  ...   9.229463   5.854791   5.055560   5.052685  5.065895   \n",
      "19  -6.753453  ...  16.137072  10.382237   4.958963   3.604942 -1.610670   \n",
      "20 -16.169405  ...  16.064884   9.296294   2.721388   4.267183 -0.738599   \n",
      "21   2.982385  ...   9.547343  10.189980   8.002473  10.676256  4.560469   \n",
      "22  16.291315  ...  -1.619082  -0.526343   0.917234  -3.375823  0.165110   \n",
      "23  27.013666  ...   2.686443  -0.061469   0.716393  -2.357625 -0.358140   \n",
      "\n",
      "      mfcc37    mfcc38    mfcc39    mfcc40  number  \n",
      "0   2.522376  0.640466  2.014617  2.680758       0  \n",
      "1  -1.924507 -0.304509 -0.925925 -1.353168       1  \n",
      "2  -1.922627  0.076281 -0.751752  1.349215       1  \n",
      "3   2.173538 -4.300912 -3.467034  2.687412       0  \n",
      "4   1.829082 -1.343868 -1.035109  2.231829       0  \n",
      "5  -2.601082  0.299297 -2.776784 -0.748112       1  \n",
      "6  -2.285362 -0.912237 -0.209171 -0.931579       1  \n",
      "7  -0.002587  0.066131 -0.951664  1.456304       1  \n",
      "8   5.113574 -1.597547 -1.674082  1.104443       0  \n",
      "9  -4.416783 -0.742243 -1.053309 -2.703155       1  \n",
      "10  1.407056 -0.167678  1.940564  2.689023       0  \n",
      "11  6.983534  1.303533 -2.495430 -0.352295       0  \n",
      "12  2.324381  1.008093 -0.540713  3.055194       0  \n",
      "13 -1.528085 -2.006122 -0.332519 -1.658395       1  \n",
      "14  3.157239  0.482816 -0.770126  1.390404       0  \n",
      "15 -3.051746 -2.135107 -2.738875 -0.556712       1  \n",
      "16 -0.959951 -0.231912 -0.082536 -1.038254       1  \n",
      "17 -2.741566 -1.839136 -1.447504 -0.794678       1  \n",
      "18  8.300992  3.951013  4.132353  0.520380       0  \n",
      "19  6.643352  1.547493  0.896379  0.213236       0  \n",
      "20  2.774462 -0.366227  0.640662  1.482334       0  \n",
      "21  2.582160 -1.513779  0.233452  2.170800       0  \n",
      "22 -1.540858 -0.165943 -0.249635 -1.409111       1  \n",
      "23 -3.816617 -2.213160 -2.355709 -0.873751       1  \n",
      "\n",
      "[24 rows x 46 columns]\n"
     ]
    }
   ],
   "source": [
    "trainData = preProcessData(TRAIN_CSV_FILE)\n",
    "testData = preProcessData(TEST_CSV_FILE)"
   ]
  },
  {
   "cell_type": "code",
   "execution_count": null,
   "id": "90711a10",
   "metadata": {},
   "outputs": [
    {
     "name": "stdout",
     "output_type": "stream",
     "text": [
      "Y from training data: (33,)\n",
      "Y from validation data: (15,)\n",
      "Y from test data: (24,)\n"
     ]
    }
   ],
   "source": [
    "# Splitting the dataset into training, validation and testing dataset\n",
    "\n",
    "X = np.array(trainData.iloc[:, :-1], dtype = float)\n",
    "y = trainData.iloc[:, -1]\n",
    "X_train, X_val, y_train, y_val = train_test_split(X, y, test_size=0.3, random_state=42)\n",
    "\n",
    "\n",
    "X_test = np.array(testData.iloc[:, :-1], dtype = float)\n",
    "y_test = testData.iloc[:, -1]\n",
    "\n",
    "print(\"Y from training data:\", y_train.shape)\n",
    "print(\"Y from validation data:\", y_val.shape)\n",
    "print(\"Y from test data:\", y_test.shape)"
   ]
  },
  {
   "cell_type": "code",
   "execution_count": null,
   "id": "4e2a12eb",
   "metadata": {},
   "outputs": [
    {
     "name": "stdout",
     "output_type": "stream",
     "text": [
      "X from training data (33, 45)\n",
      "X from validation data (15, 45)\n",
      "X from test data (24, 45)\n"
     ]
    }
   ],
   "source": [
    "#Normalizing the dataset\n",
    "from sklearn.preprocessing import StandardScaler\n",
    "import numpy as np\n",
    "scaler = StandardScaler()\n",
    "X_train = scaler.fit_transform( X_train )\n",
    "X_val = scaler.transform( X_val )\n",
    "X_test = scaler.transform( X_test )\n",
    "\n",
    "print(\"X from training data\", X_train.shape)\n",
    "print(\"X from validation data\", X_val.shape)\n",
    "print(\"X from test data\", X_test.shape)"
   ]
  },
  {
   "cell_type": "code",
   "execution_count": null,
   "id": "8ab67d31",
   "metadata": {},
   "outputs": [
    {
     "data": {
      "text/plain": [
       "DecisionTreeClassifier(max_depth=6, random_state=42)"
      ]
     },
     "execution_count": 118,
     "metadata": {},
     "output_type": "execute_result"
    }
   ],
   "source": [
    "#Create an object (model)\n",
    "dtr1 = DecisionTreeClassifier(max_depth =6, random_state = 42)\n",
    "#Fit (train) the model\n",
    "dtr1.fit(X_train, y_train)"
   ]
  },
  {
   "cell_type": "code",
   "execution_count": null,
   "id": "91c52fe7",
   "metadata": {},
   "outputs": [
    {
     "data": {
      "image/png": "[encoded data removed]",
      "text/plain": [
       "<Figure size 3000x1000 with 1 Axes>"
      ]
     },
     "metadata": {},
     "output_type": "display_data"
    }
   ],
   "source": [
    "#plt the figure, setting a black background\n",
    "plt.figure(figsize=(30,10))\n",
    "#create the tree plot\n",
    "a = tree.plot_tree(dtr1,feature_names = list(['rmse', 'spectral_centroid', 'spectral_bandwidth', \n",
    "                   'rolloff', 'zero_crossing_rate', 'mfcc1', 'mfcc2', 'mfcc3', 'mfcc4', 'mfcc5', 'mfcc6', 'mfcc7', 'mfcc8', \n",
    "                   'mfcc9', 'mfcc10', 'mfcc11', 'mfcc12', 'mfcc13', 'mfcc14', 'mfcc15', 'mfcc16', 'mfcc17', 'mfcc18', 'mfcc19', \n",
    "                   'mfcc20', 'mfcc21', 'mfcc22', 'mfcc23', 'mfcc24', 'mfcc25', 'mfcc26', 'mfcc27', 'mfcc28', 'mfcc29', 'mfcc30', \n",
    "                   'mfcc31', 'mfcc32', 'mfcc33', 'mfcc34', 'mfcc35', 'mfcc36', 'mfcc37', 'mfcc38', 'mfcc39', 'mfcc40']),\n",
    "                   class_names = [\"0\", \"1\"],\n",
    "                   rounded = True,\n",
    "                   filled = True,\n",
    "                   fontsize=14)\n",
    "#show the plot\n",
    "plt.show()"
   ]
  },
  {
   "cell_type": "code",
   "execution_count": null,
   "id": "7f20acd9",
   "metadata": {},
   "outputs": [
    {
     "data": {
      "text/plain": [
       "array([1, 1, 1, 0, 1, 1, 1, 1, 1, 1, 0, 1, 1, 1, 0, 1, 1, 1, 1, 0, 1, 0,\n",
       "       1, 1])"
      ]
     },
     "execution_count": 120,
     "metadata": {},
     "output_type": "execute_result"
    }
   ],
   "source": [
    "test_pred_decision_tree = dtr1.predict(X_test)\n",
    "test_pred_decision_tree"
   ]
  },
  {
   "cell_type": "code",
   "execution_count": null,
   "id": "fa43b4a3",
   "metadata": {},
   "outputs": [
    {
     "name": "stdout",
     "output_type": "stream",
     "text": [
      "Accuracy: 0.7083333333333334\n"
     ]
    }
   ],
   "source": [
    "print(\"Accuracy:\",metrics.accuracy_score(y_test, test_pred_decision_tree))\n"
   ]
  },
  {
   "cell_type": "code",
   "execution_count": null,
   "id": "39124040",
   "metadata": {},
   "outputs": [],
   "source": [
    "def report(X_data, y_data):\n",
    "    #Confution Matrix and Classification Report\n",
    "    Y_pred = dtr1.predict(X_data)\n",
    "    y_test_num = y_data.astype(np.int64)\n",
    "    conf_mt = confusion_matrix(y_test_num, Y_pred)\n",
    "    print(conf_mt)\n",
    "    plt.matshow(conf_mt)\n",
    "    plt.show()\n",
    "    print('\\nClassification Report')\n",
    "    target_names = [\"Marina\", \"Mohab\", \"Unknown\"]\n",
    "    print(classification_report(y_test_num, Y_pred))"
   ]
  },
  {
   "cell_type": "code",
   "execution_count": null,
   "id": "d0d6105f",
   "metadata": {},
   "outputs": [
    {
     "name": "stdout",
     "output_type": "stream",
     "text": [
      "Classification Report for Test Data\n",
      "\n",
      "[[ 5  7]\n",
      " [ 0 12]]\n"
     ]
    },
    {
     "data": {
      "image/png": "[encoded data removed]",
      "text/plain": [
       "<Figure size 480x480 with 1 Axes>"
      ]
     },
     "metadata": {},
     "output_type": "display_data"
    },
    {
     "name": "stdout",
     "output_type": "stream",
     "text": [
      "\n",
      "Classification Report\n",
      "              precision    recall  f1-score   support\n",
      "\n",
      "           0       1.00      0.42      0.59        12\n",
      "           1       0.63      1.00      0.77        12\n",
      "\n",
      "    accuracy                           0.71        24\n",
      "   macro avg       0.82      0.71      0.68        24\n",
      "weighted avg       0.82      0.71      0.68        24\n",
      "\n"
     ]
    }
   ],
   "source": [
    "print(\"Classification Report for Test Data\\n\")\n",
    "report(X_test, y_test)"
   ]
  }
 ],
 "metadata": {
  "kernelspec": {
   "display_name": "Python 3.9.4 64-bit",
   "language": "python",
   "name": "python3"
  },
  "language_info": {
   "codemirror_mode": {
    "name": "ipython",
    "version": 3
   },
   "file_extension": ".py",
   "mimetype": "text/x-python",
   "name": "python",
   "nbconvert_exporter": "python",
   "pygments_lexer": "ipython3",
   "version": "3.9.4"
  },
  "vscode": {
   "interpreter": {
    "hash": "4b1f9f87be1ad47467904abeef42843e4e435572dcd383bf9e56567a87af4f9c"
   }
  }
 },
 "nbformat": 4,
 "nbformat_minor": 5
}
